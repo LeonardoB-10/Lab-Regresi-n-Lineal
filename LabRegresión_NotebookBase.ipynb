{
 "cells": [
  {
   "cell_type": "markdown",
   "id": "8b6f603c",
   "metadata": {},
   "source": [
    "<center><h1>Técnicas de Inteligencia Artificial</header1></center>"
   ]
  },
  {
   "cell_type": "markdown",
   "id": "3eb1aaac",
   "metadata": {},
   "source": [
    "Presentado por: Nombres Apellidos  <br>\n",
    "Fecha: DD/MM/2022"
   ]
  },
  {
   "cell_type": "markdown",
   "id": "1dec299b",
   "metadata": {
    "ExecuteTime": {
     "end_time": "2022-03-14T15:14:04.930713Z",
     "start_time": "2022-03-14T15:14:04.921682Z"
    }
   },
   "source": [
    "# Importación de librerias necesarias"
   ]
  },
  {
   "cell_type": "code",
   "execution_count": 33,
   "id": "6d1abf7a",
   "metadata": {
    "ExecuteTime": {
     "end_time": "2022-03-14T15:14:46.228059Z",
     "start_time": "2022-03-14T15:14:46.223108Z"
    }
   },
   "outputs": [],
   "source": [
    "#Para esta actividad se importarán las siguientes librerías:\n",
    "\"\"\"import numpy as np para trabajar con matrices y librerias de scipy para la regresión lineal y matplotlib para graficar\n",
    "import matplotlib.pyplot as plt para graficar y se importará la librería pandas para trabajar con dataframes\n",
    "\"\"\" \n",
    "import pandas as pd#para trabajar con dataframes y librería scipy para la regresión lineal\n",
    "import matplotlib.pyplot as plt#para graficar y se importará la librería numpy para trabajar con matrices\n",
    "from sklearn import linear_model # para la regresión lineal y librería scipy para la regresión lineal\n",
    "from sklearn.metrics import r2_score # para calcular el coeficiente de determinación"
   ]
  },
  {
   "cell_type": "markdown",
   "id": "6a44b924",
   "metadata": {},
   "source": [
    "## Cargar el Dataset"
   ]
  },
  {
   "cell_type": "code",
   "execution_count": 34,
   "id": "3541e808",
   "metadata": {},
   "outputs": [
    {
     "data": {
      "text/html": [
       "<div>\n",
       "<style scoped>\n",
       "    .dataframe tbody tr th:only-of-type {\n",
       "        vertical-align: middle;\n",
       "    }\n",
       "\n",
       "    .dataframe tbody tr th {\n",
       "        vertical-align: top;\n",
       "    }\n",
       "\n",
       "    .dataframe thead th {\n",
       "        text-align: right;\n",
       "    }\n",
       "</style>\n",
       "<table border=\"1\" class=\"dataframe\">\n",
       "  <thead>\n",
       "    <tr style=\"text-align: right;\">\n",
       "      <th></th>\n",
       "      <th>No</th>\n",
       "      <th>X1 transaction date</th>\n",
       "      <th>X2 house age</th>\n",
       "      <th>X3 distance to the nearest MRT station</th>\n",
       "      <th>X4 number of convenience stores</th>\n",
       "      <th>X5 latitude</th>\n",
       "      <th>X6 longitude</th>\n",
       "      <th>Y house price of unit area</th>\n",
       "    </tr>\n",
       "  </thead>\n",
       "  <tbody>\n",
       "    <tr>\n",
       "      <th>0</th>\n",
       "      <td>1</td>\n",
       "      <td>2012.917</td>\n",
       "      <td>32.0</td>\n",
       "      <td>84.87882</td>\n",
       "      <td>10</td>\n",
       "      <td>24.98298</td>\n",
       "      <td>121.54024</td>\n",
       "      <td>37.9</td>\n",
       "    </tr>\n",
       "    <tr>\n",
       "      <th>1</th>\n",
       "      <td>2</td>\n",
       "      <td>2012.917</td>\n",
       "      <td>19.5</td>\n",
       "      <td>306.59470</td>\n",
       "      <td>9</td>\n",
       "      <td>24.98034</td>\n",
       "      <td>121.53951</td>\n",
       "      <td>42.2</td>\n",
       "    </tr>\n",
       "    <tr>\n",
       "      <th>2</th>\n",
       "      <td>3</td>\n",
       "      <td>2013.583</td>\n",
       "      <td>13.3</td>\n",
       "      <td>561.98450</td>\n",
       "      <td>5</td>\n",
       "      <td>24.98746</td>\n",
       "      <td>121.54391</td>\n",
       "      <td>47.3</td>\n",
       "    </tr>\n",
       "    <tr>\n",
       "      <th>3</th>\n",
       "      <td>4</td>\n",
       "      <td>2013.500</td>\n",
       "      <td>13.3</td>\n",
       "      <td>561.98450</td>\n",
       "      <td>5</td>\n",
       "      <td>24.98746</td>\n",
       "      <td>121.54391</td>\n",
       "      <td>54.8</td>\n",
       "    </tr>\n",
       "    <tr>\n",
       "      <th>4</th>\n",
       "      <td>5</td>\n",
       "      <td>2012.833</td>\n",
       "      <td>5.0</td>\n",
       "      <td>390.56840</td>\n",
       "      <td>5</td>\n",
       "      <td>24.97937</td>\n",
       "      <td>121.54245</td>\n",
       "      <td>43.1</td>\n",
       "    </tr>\n",
       "    <tr>\n",
       "      <th>...</th>\n",
       "      <td>...</td>\n",
       "      <td>...</td>\n",
       "      <td>...</td>\n",
       "      <td>...</td>\n",
       "      <td>...</td>\n",
       "      <td>...</td>\n",
       "      <td>...</td>\n",
       "      <td>...</td>\n",
       "    </tr>\n",
       "    <tr>\n",
       "      <th>409</th>\n",
       "      <td>410</td>\n",
       "      <td>2013.000</td>\n",
       "      <td>13.7</td>\n",
       "      <td>4082.01500</td>\n",
       "      <td>0</td>\n",
       "      <td>24.94155</td>\n",
       "      <td>121.50381</td>\n",
       "      <td>15.4</td>\n",
       "    </tr>\n",
       "    <tr>\n",
       "      <th>410</th>\n",
       "      <td>411</td>\n",
       "      <td>2012.667</td>\n",
       "      <td>5.6</td>\n",
       "      <td>90.45606</td>\n",
       "      <td>9</td>\n",
       "      <td>24.97433</td>\n",
       "      <td>121.54310</td>\n",
       "      <td>50.0</td>\n",
       "    </tr>\n",
       "    <tr>\n",
       "      <th>411</th>\n",
       "      <td>412</td>\n",
       "      <td>2013.250</td>\n",
       "      <td>18.8</td>\n",
       "      <td>390.96960</td>\n",
       "      <td>7</td>\n",
       "      <td>24.97923</td>\n",
       "      <td>121.53986</td>\n",
       "      <td>40.6</td>\n",
       "    </tr>\n",
       "    <tr>\n",
       "      <th>412</th>\n",
       "      <td>413</td>\n",
       "      <td>2013.000</td>\n",
       "      <td>8.1</td>\n",
       "      <td>104.81010</td>\n",
       "      <td>5</td>\n",
       "      <td>24.96674</td>\n",
       "      <td>121.54067</td>\n",
       "      <td>52.5</td>\n",
       "    </tr>\n",
       "    <tr>\n",
       "      <th>413</th>\n",
       "      <td>414</td>\n",
       "      <td>2013.500</td>\n",
       "      <td>6.5</td>\n",
       "      <td>90.45606</td>\n",
       "      <td>9</td>\n",
       "      <td>24.97433</td>\n",
       "      <td>121.54310</td>\n",
       "      <td>63.9</td>\n",
       "    </tr>\n",
       "  </tbody>\n",
       "</table>\n",
       "<p>414 rows × 8 columns</p>\n",
       "</div>"
      ],
      "text/plain": [
       "      No  X1 transaction date  X2 house age  \\\n",
       "0      1             2012.917          32.0   \n",
       "1      2             2012.917          19.5   \n",
       "2      3             2013.583          13.3   \n",
       "3      4             2013.500          13.3   \n",
       "4      5             2012.833           5.0   \n",
       "..   ...                  ...           ...   \n",
       "409  410             2013.000          13.7   \n",
       "410  411             2012.667           5.6   \n",
       "411  412             2013.250          18.8   \n",
       "412  413             2013.000           8.1   \n",
       "413  414             2013.500           6.5   \n",
       "\n",
       "     X3 distance to the nearest MRT station  X4 number of convenience stores  \\\n",
       "0                                  84.87882                               10   \n",
       "1                                 306.59470                                9   \n",
       "2                                 561.98450                                5   \n",
       "3                                 561.98450                                5   \n",
       "4                                 390.56840                                5   \n",
       "..                                      ...                              ...   \n",
       "409                              4082.01500                                0   \n",
       "410                                90.45606                                9   \n",
       "411                               390.96960                                7   \n",
       "412                               104.81010                                5   \n",
       "413                                90.45606                                9   \n",
       "\n",
       "     X5 latitude  X6 longitude  Y house price of unit area  \n",
       "0       24.98298     121.54024                        37.9  \n",
       "1       24.98034     121.53951                        42.2  \n",
       "2       24.98746     121.54391                        47.3  \n",
       "3       24.98746     121.54391                        54.8  \n",
       "4       24.97937     121.54245                        43.1  \n",
       "..           ...           ...                         ...  \n",
       "409     24.94155     121.50381                        15.4  \n",
       "410     24.97433     121.54310                        50.0  \n",
       "411     24.97923     121.53986                        40.6  \n",
       "412     24.96674     121.54067                        52.5  \n",
       "413     24.97433     121.54310                        63.9  \n",
       "\n",
       "[414 rows x 8 columns]"
      ]
     },
     "execution_count": 34,
     "metadata": {},
     "output_type": "execute_result"
    }
   ],
   "source": [
    "#Código para cargar el Dataset\n",
    "\"\"\"Se cargará el dataset de la siguiente forma:\"\"\"\n",
    "df = pd.read_csv('Realestate.csv')#se carga el dataset Realestate.csv\n",
    "df # se imprime el dataset para verificar que se cargo correctamente"
   ]
  },
  {
   "cell_type": "markdown",
   "id": "93c30410",
   "metadata": {},
   "source": [
    "## Descripción de la fuente del Dataset"
   ]
  },
  {
   "cell_type": "markdown",
   "id": "db6174bc",
   "metadata": {},
   "source": [
    "El dataset contiene información de 414 viviendas, dicho dataset contiene 8 atributos, incluida una característica de clase objetivo que indica el precio de la vivienda. El significado de cada columna en los datos es el siguiente:<br><br>\n",
    "**X1 transaction date**: Continuo. Fecha en la que se negocia.<br>\n",
    "**X2 house age**: Discreta. Edad de la casa.<br>\n",
    "**X3 distance to the nearest MRT station**: Continuo. La estación de MRT más cercana.<br>\n",
    "**X4 number of convenience stores**: Discreta. Número de tiendas de conveniencia.<br>\n",
    "**X5 latitude**: Continuo. Latitud.<br>\n",
    "**X6 longitude**: Continuo. Longitud.<br>\n",
    "**Y house price of unit area**: Continuo. Precio de la vivienda por unidad de superficie.<br>"
   ]
  },
  {
   "cell_type": "markdown",
   "id": "7f868eab",
   "metadata": {},
   "source": [
    "## Explique el problema a resolver. \n",
    "Se requiere crear un modelo de aprendizaje automático que permita predecir el precio adecuado de inmobiliarios en función de su ubicación. Para lo cual se utilizara el dataset (Real estate), el cual contiene 414 viviendas. Donde, la variable objetiva se denomina **”Y house price of unit area”** . Existen 7 variables de entrada llamadas: **No, X1 transaction date, X3 distance to the nearest MRT station,X4 number of convenience stores, X5 latitude, X6 longitude.**"
   ]
  },
  {
   "cell_type": "markdown",
   "id": "a0b719c1",
   "metadata": {},
   "source": [
    "## Caracterización del Dataset\n",
    "\n",
    "Realice una descripción de los datos con:\n",
    "\n",
    ">- Número de instancias en total.\n",
    ">- Número de atributos de entrada, su significado y tipo.\n",
    ">- Estadísticas de la variable objetivo.\n",
    ">- Estadísticas los atributos en relación con la variable objetivo.\n"
   ]
  },
  {
   "cell_type": "markdown",
   "id": "14ab5e56",
   "metadata": {},
   "source": [
    "## Número de instancias en total."
   ]
  },
  {
   "cell_type": "code",
   "execution_count": 35,
   "id": "2f0ed5d2",
   "metadata": {},
   "outputs": [
    {
     "data": {
      "text/plain": [
       "No                                        414\n",
       "X1 transaction date                       414\n",
       "X2 house age                              414\n",
       "X3 distance to the nearest MRT station    414\n",
       "X4 number of convenience stores           414\n",
       "X5 latitude                               414\n",
       "X6 longitude                              414\n",
       "Y house price of unit area                414\n",
       "dtype: int64"
      ]
     },
     "execution_count": 35,
     "metadata": {},
     "output_type": "execute_result"
    }
   ],
   "source": [
    "#Número de instancias en total\n",
    "\"\"\" Se calcula el número de instancias en total del dataset\"\"\"\n",
    "df.count() # se imprime el número de instancias en total del dataset"
   ]
  },
  {
   "cell_type": "markdown",
   "id": "5574c134",
   "metadata": {},
   "source": [
    "### Número de atributos de entrada, su significado y tipo"
   ]
  },
  {
   "cell_type": "markdown",
   "id": "a7ab5e48",
   "metadata": {},
   "source": [
    "**X1 transaction date**: Continuo. Fecha en la que se negocia.<br>\n",
    "**X2 house age**: Discreta. Edad de la casa.<br>\n",
    "**X3 distance to the nearest MRT station**: Continuo. La estación de MRT más cercana.<br>\n",
    "**X4 number of convenience stores**: Discreta. Número de tiendas de conveniencia.<br>\n",
    "**X5 latitude**: Continuo. Latitud.<br>\n",
    "**X6 longitude**: Continuo. Longitud.<br>"
   ]
  },
  {
   "cell_type": "code",
   "execution_count": 36,
   "id": "97633d2b",
   "metadata": {},
   "outputs": [
    {
     "name": "stdout",
     "output_type": "stream",
     "text": [
      "<class 'pandas.core.frame.DataFrame'>\n",
      "RangeIndex: 414 entries, 0 to 413\n",
      "Data columns (total 7 columns):\n",
      " #   Column                                  Non-Null Count  Dtype  \n",
      "---  ------                                  --------------  -----  \n",
      " 0   No                                      414 non-null    int64  \n",
      " 1   X1 transaction date                     414 non-null    float64\n",
      " 2   X2 house age                            414 non-null    float64\n",
      " 3   X3 distance to the nearest MRT station  414 non-null    float64\n",
      " 4   X4 number of convenience stores         414 non-null    int64  \n",
      " 5   X5 latitude                             414 non-null    float64\n",
      " 6   X6 longitude                            414 non-null    float64\n",
      "dtypes: float64(5), int64(2)\n",
      "memory usage: 22.8 KB\n"
     ]
    }
   ],
   "source": [
    "\"\"\"Se imprime el número de instancias en total del dataset para verificar que se cargo correctamente\"\"\" \n",
    "df.drop('Y house price of unit area', axis=1).info()"
   ]
  },
  {
   "cell_type": "markdown",
   "id": "3e0e625b",
   "metadata": {},
   "source": [
    "## Estadísticas de la variable objetivo."
   ]
  },
  {
   "cell_type": "code",
   "execution_count": 37,
   "id": "39d413b7",
   "metadata": {},
   "outputs": [
    {
     "data": {
      "text/html": [
       "<div>\n",
       "<style scoped>\n",
       "    .dataframe tbody tr th:only-of-type {\n",
       "        vertical-align: middle;\n",
       "    }\n",
       "\n",
       "    .dataframe tbody tr th {\n",
       "        vertical-align: top;\n",
       "    }\n",
       "\n",
       "    .dataframe thead th {\n",
       "        text-align: right;\n",
       "    }\n",
       "</style>\n",
       "<table border=\"1\" class=\"dataframe\">\n",
       "  <thead>\n",
       "    <tr style=\"text-align: right;\">\n",
       "      <th></th>\n",
       "      <th>Y house price of unit area</th>\n",
       "    </tr>\n",
       "  </thead>\n",
       "  <tbody>\n",
       "    <tr>\n",
       "      <th>count</th>\n",
       "      <td>414.000000</td>\n",
       "    </tr>\n",
       "    <tr>\n",
       "      <th>mean</th>\n",
       "      <td>37.980193</td>\n",
       "    </tr>\n",
       "    <tr>\n",
       "      <th>std</th>\n",
       "      <td>13.606488</td>\n",
       "    </tr>\n",
       "    <tr>\n",
       "      <th>min</th>\n",
       "      <td>7.600000</td>\n",
       "    </tr>\n",
       "    <tr>\n",
       "      <th>25%</th>\n",
       "      <td>27.700000</td>\n",
       "    </tr>\n",
       "    <tr>\n",
       "      <th>50%</th>\n",
       "      <td>38.450000</td>\n",
       "    </tr>\n",
       "    <tr>\n",
       "      <th>75%</th>\n",
       "      <td>46.600000</td>\n",
       "    </tr>\n",
       "    <tr>\n",
       "      <th>max</th>\n",
       "      <td>117.500000</td>\n",
       "    </tr>\n",
       "  </tbody>\n",
       "</table>\n",
       "</div>"
      ],
      "text/plain": [
       "       Y house price of unit area\n",
       "count                  414.000000\n",
       "mean                    37.980193\n",
       "std                     13.606488\n",
       "min                      7.600000\n",
       "25%                     27.700000\n",
       "50%                     38.450000\n",
       "75%                     46.600000\n",
       "max                    117.500000"
      ]
     },
     "execution_count": 37,
     "metadata": {},
     "output_type": "execute_result"
    }
   ],
   "source": [
    "\"\"\" Estadistica descriptiva del dataset de Y house price of unit area\"\"\"\n",
    "df[['Y house price of unit area']].describe()"
   ]
  },
  {
   "cell_type": "markdown",
   "id": "cf029284",
   "metadata": {},
   "source": [
    "## Estadísticas los atributos en relación con la variable objetivo."
   ]
  },
  {
   "cell_type": "code",
   "execution_count": 38,
   "id": "2a14e412",
   "metadata": {},
   "outputs": [
    {
     "data": {
      "text/html": [
       "<div>\n",
       "<style scoped>\n",
       "    .dataframe tbody tr th:only-of-type {\n",
       "        vertical-align: middle;\n",
       "    }\n",
       "\n",
       "    .dataframe tbody tr th {\n",
       "        vertical-align: top;\n",
       "    }\n",
       "\n",
       "    .dataframe thead th {\n",
       "        text-align: right;\n",
       "    }\n",
       "</style>\n",
       "<table border=\"1\" class=\"dataframe\">\n",
       "  <thead>\n",
       "    <tr style=\"text-align: right;\">\n",
       "      <th></th>\n",
       "      <th>X1 transaction date</th>\n",
       "      <th>X2 house age</th>\n",
       "      <th>X3 distance to the nearest MRT station</th>\n",
       "      <th>X4 number of convenience stores</th>\n",
       "      <th>X5 latitude</th>\n",
       "      <th>X6 longitude</th>\n",
       "    </tr>\n",
       "  </thead>\n",
       "  <tbody>\n",
       "    <tr>\n",
       "      <th>count</th>\n",
       "      <td>414.000000</td>\n",
       "      <td>414.000000</td>\n",
       "      <td>414.000000</td>\n",
       "      <td>414.000000</td>\n",
       "      <td>414.000000</td>\n",
       "      <td>414.000000</td>\n",
       "    </tr>\n",
       "    <tr>\n",
       "      <th>mean</th>\n",
       "      <td>2013.148971</td>\n",
       "      <td>17.712560</td>\n",
       "      <td>1083.885689</td>\n",
       "      <td>4.094203</td>\n",
       "      <td>24.969030</td>\n",
       "      <td>121.533361</td>\n",
       "    </tr>\n",
       "    <tr>\n",
       "      <th>std</th>\n",
       "      <td>0.281967</td>\n",
       "      <td>11.392485</td>\n",
       "      <td>1262.109595</td>\n",
       "      <td>2.945562</td>\n",
       "      <td>0.012410</td>\n",
       "      <td>0.015347</td>\n",
       "    </tr>\n",
       "    <tr>\n",
       "      <th>min</th>\n",
       "      <td>2012.667000</td>\n",
       "      <td>0.000000</td>\n",
       "      <td>23.382840</td>\n",
       "      <td>0.000000</td>\n",
       "      <td>24.932070</td>\n",
       "      <td>121.473530</td>\n",
       "    </tr>\n",
       "    <tr>\n",
       "      <th>25%</th>\n",
       "      <td>2012.917000</td>\n",
       "      <td>9.025000</td>\n",
       "      <td>289.324800</td>\n",
       "      <td>1.000000</td>\n",
       "      <td>24.963000</td>\n",
       "      <td>121.528085</td>\n",
       "    </tr>\n",
       "    <tr>\n",
       "      <th>50%</th>\n",
       "      <td>2013.167000</td>\n",
       "      <td>16.100000</td>\n",
       "      <td>492.231300</td>\n",
       "      <td>4.000000</td>\n",
       "      <td>24.971100</td>\n",
       "      <td>121.538630</td>\n",
       "    </tr>\n",
       "    <tr>\n",
       "      <th>75%</th>\n",
       "      <td>2013.417000</td>\n",
       "      <td>28.150000</td>\n",
       "      <td>1454.279000</td>\n",
       "      <td>6.000000</td>\n",
       "      <td>24.977455</td>\n",
       "      <td>121.543305</td>\n",
       "    </tr>\n",
       "    <tr>\n",
       "      <th>max</th>\n",
       "      <td>2013.583000</td>\n",
       "      <td>43.800000</td>\n",
       "      <td>6488.021000</td>\n",
       "      <td>10.000000</td>\n",
       "      <td>25.014590</td>\n",
       "      <td>121.566270</td>\n",
       "    </tr>\n",
       "  </tbody>\n",
       "</table>\n",
       "</div>"
      ],
      "text/plain": [
       "       X1 transaction date  X2 house age  \\\n",
       "count           414.000000    414.000000   \n",
       "mean           2013.148971     17.712560   \n",
       "std               0.281967     11.392485   \n",
       "min            2012.667000      0.000000   \n",
       "25%            2012.917000      9.025000   \n",
       "50%            2013.167000     16.100000   \n",
       "75%            2013.417000     28.150000   \n",
       "max            2013.583000     43.800000   \n",
       "\n",
       "       X3 distance to the nearest MRT station  \\\n",
       "count                              414.000000   \n",
       "mean                              1083.885689   \n",
       "std                               1262.109595   \n",
       "min                                 23.382840   \n",
       "25%                                289.324800   \n",
       "50%                                492.231300   \n",
       "75%                               1454.279000   \n",
       "max                               6488.021000   \n",
       "\n",
       "       X4 number of convenience stores  X5 latitude  X6 longitude  \n",
       "count                       414.000000   414.000000    414.000000  \n",
       "mean                          4.094203    24.969030    121.533361  \n",
       "std                           2.945562     0.012410      0.015347  \n",
       "min                           0.000000    24.932070    121.473530  \n",
       "25%                           1.000000    24.963000    121.528085  \n",
       "50%                           4.000000    24.971100    121.538630  \n",
       "75%                           6.000000    24.977455    121.543305  \n",
       "max                          10.000000    25.014590    121.566270  "
      ]
     },
     "execution_count": 38,
     "metadata": {},
     "output_type": "execute_result"
    }
   ],
   "source": [
    "\"\"\"Se imprime el número de instancias en total del dataset para verificar que se cargo correctamente\n",
    "de x1 hasat y x2 hasta x5 para ver la descriptiva del dataset\"\"\"\n",
    "\n",
    "df[[\t'X1 transaction date',\t'X2 house age',\t'X3 distance to the nearest MRT station',\t'X4 number of convenience stores',\t'X5 latitude',\t'X6 longitude']].describe()"
   ]
  },
  {
   "cell_type": "markdown",
   "id": "0a19e6af",
   "metadata": {},
   "source": [
    "## Preprocesamiento del dataset. Transformaciones previas necesarias para la modelación"
   ]
  },
  {
   "cell_type": "code",
   "execution_count": 39,
   "id": "5a24dac4",
   "metadata": {},
   "outputs": [],
   "source": [
    "#Transformación de las caracteristicas (mire el apartado Feature engineering del aula virtual)\n",
    "# Variable objetivo y variables de entrada\n",
    "\"\"\"Se separan las variables objetivo y variables de entrada del dataset para la regresión lineal\"\"\" \n",
    "VariableObjetivo=['Y house price of unit area']#se define la variable objetivo\n",
    "VariablesEntrada=[\t'X1 transaction date',\t'X2 house age',\t'X3 distance to the nearest MRT station',\t'X4 number of convenience stores',\t'X5 latitude',\t'X6 longitude']"
   ]
  },
  {
   "cell_type": "code",
   "execution_count": 40,
   "id": "6086efa9",
   "metadata": {},
   "outputs": [],
   "source": [
    "\"\"\"Se define la variable X con las variables de entrada y se define la variable y para la variable objetivo\"\"\"\n",
    "X=df[VariablesEntrada].values#se define la variable X \n",
    "y=df[VariableObjetivo].values#se define la variable y "
   ]
  },
  {
   "cell_type": "code",
   "execution_count": 41,
   "id": "5832ee1b",
   "metadata": {},
   "outputs": [],
   "source": [
    "### Estandarización de la data ###\n",
    "\"\"\" \"\"\"\n",
    "from sklearn.preprocessing import StandardScaler#para estandarizar la data y librería scipy para la regresión lineal\n",
    "\n",
    "\"\"\"Se define el objeto StandardScaler para estandarizar la data y se define la variable \"\"\"\n",
    "VariablesEntradaScaler=StandardScaler()\n",
    "\"\"\" Se define la variable X con las variables de entrada y se define la variable y para la variable objetivo \"\"\"\n",
    "VariableObjetivoScaler=StandardScaler()"
   ]
  },
  {
   "cell_type": "code",
   "execution_count": 42,
   "id": "9a431b1f",
   "metadata": {},
   "outputs": [],
   "source": [
    "#Almacenamiento del objeto de ajuste para referencia posterior\n",
    "\"\"\"Se define el objeto de ajuste para estandarizar la data y se define la variable \"\"\"\n",
    "VariablesEntradaFit=VariablesEntradaScaler.fit(X)\n",
    "\"\"\"Se define el objeto de ajuste para estandarizar la data y se define la variable  \"\"\"\n",
    "VariableObjetivoFit=VariableObjetivoScaler.fit(y)"
   ]
  },
  {
   "cell_type": "code",
   "execution_count": 43,
   "id": "f7b885df",
   "metadata": {},
   "outputs": [],
   "source": [
    "#Generación de los valores estandarizados de X e y\n",
    "\"\"\"Se define la variable X con las variables de entrada \"\"\"\n",
    "X=VariablesEntradaFit.transform(X)\n",
    "\"\"\"Se define la variable y se define la variable y para la variable objetivo\"\"\"\n",
    "y=VariableObjetivoFit.transform(y)"
   ]
  },
  {
   "cell_type": "markdown",
   "id": "49815fde",
   "metadata": {
    "ExecuteTime": {
     "end_time": "2022-03-14T15:56:34.366469Z",
     "start_time": "2022-03-14T15:56:34.358471Z"
    }
   },
   "source": [
    "## División del dataset en datos de entrenamiento y datos de test "
   ]
  },
  {
   "cell_type": "code",
   "execution_count": 44,
   "id": "6f26d21e",
   "metadata": {},
   "outputs": [],
   "source": [
    "#Código que realice la división en entrenamiento y test, de acuerdo con la estretgia de evaluación planeada. Describa cuál es.\n",
    "#Divida los datos en un conjunto de entrenamiento y prueba\n",
    "\"\"\"para dividir los datos en entrenamiento y prueba y librería scipy para la regresión lineal y matplotlib para graficar y se importará la librería pandas para trabajar con dataframes\n",
    "y se importará la librería numpy para trabajar con matrices \"\"\"\n",
    "from sklearn.model_selection import train_test_split \n",
    "\"\"\"se divide la data en entrenamiento y prueba con el porcentaje de test 0.3 y el valor de random_state 42 para que sea reproducible  el resultado de la división de datos\n",
    "en entrenamiento y prueba para la regresión lineal y matplotlib para graficar\"\"\"\n",
    "X_train, X_test, y_train, y_test = train_test_split(X, y, test_size=0.3, random_state=42)"
   ]
  },
  {
   "cell_type": "code",
   "execution_count": 45,
   "id": "90fee532",
   "metadata": {},
   "outputs": [
    {
     "name": "stdout",
     "output_type": "stream",
     "text": [
      "(289, 6)\n",
      "(289, 1)\n",
      "(125, 6)\n",
      "(125, 1)\n"
     ]
    }
   ],
   "source": [
    "#Comprobación rápida del tamaño de los conjuntos de datos de entrenamiento y prueba\n",
    "\n",
    "\"\"\"Se imprime el tamaño del conjunto de datos de entrenamiento\"\"\"\n",
    "print(X_train.shape)\n",
    "\"\"\"Se imprime el tamaño del conjunto de datos de prueba\"\"\"\n",
    "print(y_train.shape)\n",
    "\"\"\" Se imprime el tamaño del conjunto de datos de prueba \"\"\"\n",
    "print(X_test.shape)\n",
    "\"\"\" #se imprime el tamaño del conjunto de datos de prueba  para verificar que se cargo correctamente\"\"\"\n",
    "print(y_test.shape)"
   ]
  },
  {
   "cell_type": "markdown",
   "id": "6319adad",
   "metadata": {},
   "source": [
    "## Regresión Lineal"
   ]
  },
  {
   "cell_type": "code",
   "execution_count": 47,
   "id": "d5d2b2c6",
   "metadata": {},
   "outputs": [],
   "source": [
    "#Códo del modelo\n",
    "# Creamos el objeto de Regresión Linear\n",
    "\"\"\"se define el objeto de Regresión Linear y se define la variable \"\"\"\n",
    "regresion = linear_model.LinearRegression()"
   ]
  },
  {
   "cell_type": "code",
   "execution_count": 49,
   "id": "33f5be2a",
   "metadata": {
    "ExecuteTime": {
     "end_time": "2022-04-25T07:21:39.020596Z",
     "start_time": "2022-04-25T07:21:39.005596Z"
    }
   },
   "outputs": [
    {
     "data": {
      "text/plain": [
       "LinearRegression()"
      ]
     },
     "execution_count": 49,
     "metadata": {},
     "output_type": "execute_result"
    }
   ],
   "source": [
    "#Entrenamiento\n",
    "\"\"\"se entrena el modelo con el conjunto de datos de entrenamiento \"\"\"\n",
    "regresion.fit(X_train, y_train)"
   ]
  },
  {
   "cell_type": "code",
   "execution_count": 51,
   "id": "a2e675b3",
   "metadata": {},
   "outputs": [
    {
     "name": "stdout",
     "output_type": "stream",
     "text": [
      "[[ 7.04494284e-01]\n",
      " [ 2.28368210e-01]\n",
      " [ 4.61758845e-01]\n",
      " [ 1.86655594e-01]\n",
      " [-7.75973686e-01]\n",
      " [ 5.79406699e-01]\n",
      " [ 4.94683838e-01]\n",
      " [ 6.32619563e-01]\n",
      " [-1.03895699e+00]\n",
      " [ 1.20469080e+00]\n",
      " [-2.46509828e-01]\n",
      " [-1.19985284e-01]\n",
      " [-4.67260310e-02]\n",
      " [-1.06592092e+00]\n",
      " [-1.43695926e-01]\n",
      " [-2.51059286e-01]\n",
      " [ 4.44298712e-01]\n",
      " [ 5.19665307e-01]\n",
      " [-5.90483420e-01]\n",
      " [ 4.40262548e-01]\n",
      " [-2.78775288e+00]\n",
      " [-1.97826370e-01]\n",
      " [ 7.44247980e-01]\n",
      " [ 5.56646154e-01]\n",
      " [-2.01467705e+00]\n",
      " [ 1.47054848e-01]\n",
      " [-1.91821015e+00]\n",
      " [ 3.54183831e-01]\n",
      " [-1.69841279e-01]\n",
      " [ 8.50195528e-03]\n",
      " [-1.83899336e+00]\n",
      " [ 1.58310703e-01]\n",
      " [-1.86450412e-01]\n",
      " [-8.01142220e-01]\n",
      " [ 6.32235781e-01]\n",
      " [-4.34056420e-01]\n",
      " [ 9.30604085e-01]\n",
      " [-1.81948143e+00]\n",
      " [ 8.69798675e-01]\n",
      " [ 2.10120781e-01]\n",
      " [ 7.71733897e-02]\n",
      " [ 2.16512206e-01]\n",
      " [ 7.09139819e-01]\n",
      " [-2.15599363e-02]\n",
      " [ 1.24362658e-01]\n",
      " [ 6.37561709e-01]\n",
      " [ 4.11592538e-01]\n",
      " [-1.36656469e+00]\n",
      " [ 6.60491027e-01]\n",
      " [ 5.85014617e-01]\n",
      " [ 7.40209189e-01]\n",
      " [ 7.95766118e-01]\n",
      " [ 3.74097570e-01]\n",
      " [ 3.69389432e-01]\n",
      " [-1.04465868e-01]\n",
      " [-1.74940605e+00]\n",
      " [-4.89502648e-02]\n",
      " [-2.70126495e-01]\n",
      " [-7.09898071e-01]\n",
      " [ 5.96904658e-01]\n",
      " [-3.71918705e-01]\n",
      " [-3.78947197e-01]\n",
      " [-1.74940605e+00]\n",
      " [-2.17729256e+00]\n",
      " [-2.07380922e+00]\n",
      " [-2.67901748e-01]\n",
      " [-7.51678097e-01]\n",
      " [ 6.45944008e-01]\n",
      " [-3.09268195e-01]\n",
      " [-5.24485523e-01]\n",
      " [ 5.68417321e-01]\n",
      " [ 8.03947302e-02]\n",
      " [ 5.54025780e-01]\n",
      " [ 5.16887740e-01]\n",
      " [-1.75759395e-01]\n",
      " [-1.75288872e-02]\n",
      " [ 3.46200306e-02]\n",
      " [-2.51410486e-02]\n",
      " [ 2.04768740e-01]\n",
      " [-3.01147173e-01]\n",
      " [ 3.34422578e-01]\n",
      " [ 3.92463018e-01]\n",
      " [-7.66426798e-01]\n",
      " [ 1.05163076e-01]\n",
      " [-3.00397254e-01]\n",
      " [-5.41999871e-01]\n",
      " [ 1.43812122e-01]\n",
      " [ 5.43125811e-01]\n",
      " [-2.29528587e-01]\n",
      " [ 1.46240470e-01]\n",
      " [-1.87051431e+00]\n",
      " [ 2.53467476e-01]\n",
      " [ 2.86571239e-01]\n",
      " [ 7.82732520e-01]\n",
      " [ 6.39787584e-01]\n",
      " [ 1.73744545e-01]\n",
      " [-2.73533266e-01]\n",
      " [ 5.41561707e-01]\n",
      " [-4.18183018e-01]\n",
      " [ 6.97861410e-01]\n",
      " [-6.09910004e-01]\n",
      " [-2.84674000e-01]\n",
      " [ 3.96362034e-01]\n",
      " [-5.40422089e-01]\n",
      " [ 7.94182324e-01]\n",
      " [ 8.28383265e-01]\n",
      " [-5.62129670e-01]\n",
      " [-8.73370275e-01]\n",
      " [ 2.21322034e-01]\n",
      " [ 6.71957724e-02]\n",
      " [-5.42901229e-02]\n",
      " [ 1.50510389e-01]\n",
      " [ 7.73123365e-01]\n",
      " [ 5.36046814e-01]\n",
      " [-1.46221002e+00]\n",
      " [ 2.39252545e-01]\n",
      " [ 5.60759453e-01]\n",
      " [ 4.16432990e-01]\n",
      " [-4.87452667e-01]\n",
      " [-4.57979608e-01]\n",
      " [ 6.05509771e-01]\n",
      " [-1.72179382e+00]\n",
      " [ 9.14439768e-01]\n",
      " [ 6.34418906e-01]\n",
      " [ 1.18660552e-03]]\n"
     ]
    }
   ],
   "source": [
    "#Test\n",
    "\"\"\" se define la variable y_pred para guardar el resultado de la predicción del test \"\"\"\n",
    "y_pred = regresion.predict(X_test)# guardamos el resultado de la predicción del test\n",
    "\"\"\" se imprime el resultado de la predicción del test  para verificar que se cargo correctamente\"\"\"\n",
    "print(y_pred)# Mostramos las predicciones"
   ]
  },
  {
   "cell_type": "markdown",
   "id": "9c2239f5",
   "metadata": {},
   "source": [
    "## Evaluación del Modelo"
   ]
  },
  {
   "cell_type": "code",
   "execution_count": 52,
   "id": "fc177249",
   "metadata": {},
   "outputs": [
    {
     "data": {
      "text/plain": [
       "0.5600638168604302"
      ]
     },
     "execution_count": 52,
     "metadata": {},
     "output_type": "execute_result"
    }
   ],
   "source": [
    "\"\"\" se imprime el resultado de la evaluación del modelo para verificar que se cargo correctamente \"\"\"\n",
    "r2_score(y_test,y_pred)#Evaluación del modelo"
   ]
  },
  {
   "cell_type": "markdown",
   "id": "ad219a0c",
   "metadata": {},
   "source": [
    "Construya un o dos párrafos con los principales hallazgos. Cómo está funcionando el modelo? Calidad en los resultados de predicción. "
   ]
  },
  {
   "cell_type": "code",
   "execution_count": 53,
   "id": "28b14a2f",
   "metadata": {},
   "outputs": [
    {
     "data": {
      "text/plain": [
       "<matplotlib.collections.PathCollection at 0x27c963fd130>"
      ]
     },
     "execution_count": 53,
     "metadata": {},
     "output_type": "execute_result"
    },
    {
     "data": {
      "image/png": "[encoded data removed]",
      "text/plain": [
       "<Figure size 432x288 with 1 Axes>"
      ]
     },
     "metadata": {
      "needs_background": "light"
     },
     "output_type": "display_data"
    }
   ],
   "source": [
    "\"\"\" se imprime el resultado de la evaluación del modelo para verificar que se cargo correctamente \"\"\"\n",
    "plt.scatter(y_test,y_pred)# Visualización de resultados"
   ]
  }
 ],
 "metadata": {
  "kernelspec": {
   "display_name": "Python 3 (ipykernel)",
   "language": "python",
   "name": "python3"
  },
  "language_info": {
   "codemirror_mode": {
    "name": "ipython",
    "version": 3
   },
   "file_extension": ".py",
   "mimetype": "text/x-python",
   "name": "python",
   "nbconvert_exporter": "python",
   "pygments_lexer": "ipython3",
   "version": "3.9.7"
  },
  "toc": {
   "base_numbering": 1,
   "nav_menu": {},
   "number_sections": true,
   "sideBar": true,
   "skip_h1_title": true,
   "title_cell": "Tabla de Contenido",
   "title_sidebar": "Contenido",
   "toc_cell": false,
   "toc_position": {
    "height": "calc(100% - 180px)",
    "left": "10px",
    "top": "150px",
    "width": "263.591px"
   },
   "toc_section_display": true,
   "toc_window_display": true
  }
 },
 "nbformat": 4,
 "nbformat_minor": 5
}
